{
 "cells": [
  {
   "cell_type": "code",
   "execution_count": 22,
   "metadata": {},
   "outputs": [],
   "source": [
    "# Домашнее задание: декораторы\n",
    "## Импорт библиотек, установка констант\n",
    "## Импорт библиотек, установка констант\n",
    "import requests\n",
    "import time\n",
    "import re\n"
   ]
  },
  {
   "cell_type": "code",
   "execution_count": 14,
   "metadata": {},
   "outputs": [],
   "source": [
    "\n",
    "from random import randint\n",
    "BOOK_PATH = 'https://www.gutenberg.org/files/2638/2638-0.txt'\n"
   ]
  },
  {
   "cell_type": "code",
   "execution_count": 15,
   "metadata": {},
   "outputs": [],
   "source": [
    "\n",
    "def benchmark(func):\n",
    "    \"\"\"\n",
    "    Декоратор, выводящий время, которое заняло выполнение декорируемой функции\n",
    "    \"\"\"\n",
    "    #functools.wraps(func)\n",
    "    def wrapper(*args, **kwargs):\n",
    "        start = time.perf_counter()\n",
    "        result = func(*args, **kwargs)\n",
    "        end = time.perf_counter()\n",
    "        print(f'Время выполнения функции {func.__name__}: {end - start:.6f}\\n')\n",
    "        return result\n",
    "    return wrapper\n",
    "def logging(func):\n",
    "    \"\"\"\n",
    "    Декоратор, который выводит параметры с которыми была вызвана функция\n",
    "    \"\"\"\n",
    "    #functools.wraps(func)\n",
    "    def wrapper(*args, **kwargs):\n",
    "        arg_str = ', '.join(repr(arg) for arg in args)\n",
    "        if arg_str!='':\n",
    "          print(f'Функция вызвана с параметрами: \\n({arg_str})\\n')\n",
    "        else:\n",
    "          print(f'Функция вызвана с параметрами: \\n')\n",
    "        return func(*args, **kwargs)\n",
    "    return wrapper\n",
    "def counter(func):\n",
    "    \"\"\"\n",
    "    Декоратор, считающий и выводящий количество вызовов декорируемой функции\n",
    "    \"\"\"\n",
    "    #functools.wraps(func)\n",
    "    def wrapper(*args, **kwargs):\n",
    "        wrapper.count += 1\n",
    "        print(f\"Функция была вызвана {wrapper.count} раз\\n\")\n",
    "        return func(*args, **kwargs)\n",
    "    wrapper.count = 0\n",
    "    return wrapper\n",
    "def memo(func):\n",
    "  \"\"\"\n",
    "  Декоратор, запоминающий результаты исполнения функции func, чьи аргументы args должны быть хешируемыми\n",
    "  \"\"\"\n",
    "  cache = {}\n",
    "\n",
    "  def fmemo(*args):\n",
    "    if args in cache:\n",
    "      return cache[args]\n",
    "    else:\n",
    "      result = func(*args)\n",
    "      cache[args] = result\n",
    "      return result\n",
    "  fmemo.cache = cache\n",
    "  return fmemo\n"
   ]
  },
  {
   "cell_type": "code",
   "execution_count": 16,
   "metadata": {},
   "outputs": [
    {
     "name": "stderr",
     "output_type": "stream",
     "text": [
      "<>:13: SyntaxWarning: invalid escape sequence '\\W'\n",
      "<>:13: SyntaxWarning: invalid escape sequence '\\W'\n",
      "/tmp/ipykernel_41903/826519703.py:13: SyntaxWarning: invalid escape sequence '\\W'\n",
      "  processed_book = re.sub('[\\W]+' , ' ', raw).lower()\n"
     ]
    },
    {
     "name": "stdout",
     "output_type": "stream",
     "text": [
      "Функция вызвана с параметрами: \n",
      "('whole')\n",
      "\n",
      "Функция была вызвана 1 раз\n",
      "\n",
      "Время выполнения функции wrapper: 9.332984\n",
      "\n",
      "Cлово whole встречается 176 раз\n"
     ]
    }
   ],
   "source": [
    "\n",
    "@benchmark\n",
    "@logging\n",
    "@counter\n",
    "def word_count(word, url=BOOK_PATH):\n",
    "    \"\"\"\n",
    "    Функция для посчета указанного слова на html-странице\n",
    "    \"\"\"\n",
    "\n",
    "    # отправляем запрос в библиотеку Gutenberg и забираем текст\n",
    "    raw = requests.get(url).text\n",
    "\n",
    "    # заменяем в тексте все небуквенные символы на пробелы\n",
    "    processed_book = re.sub('[\\W]+' , ' ', raw).lower()\n",
    "\n",
    "    # считаем\n",
    "    cnt = len(re.findall(word.lower(), processed_book))\n",
    "\n",
    "    return f\"Cлово {word} встречается {cnt} раз\"\n",
    "\n",
    "print(word_count('whole'))"
   ]
  },
  {
   "cell_type": "code",
   "execution_count": 17,
   "metadata": {},
   "outputs": [
    {
     "data": {
      "text/plain": [
       "5"
      ]
     },
     "execution_count": 17,
     "metadata": {},
     "output_type": "execute_result"
    }
   ],
   "source": [
    "def fib(n):\n",
    "    if n < 2:\n",
    "        return n\n",
    "    return fib(n-2) + fib(n-1)\n",
    "\n",
    "fib(5)"
   ]
  },
  {
   "cell_type": "code",
   "execution_count": 18,
   "metadata": {},
   "outputs": [
    {
     "name": "stdout",
     "output_type": "stream",
     "text": [
      "Время выполнения функции fib: 0.000000\n",
      "\n",
      "Время выполнения функции fib: 0.000000\n",
      "\n",
      "Время выполнения функции fib: 0.000000\n",
      "\n",
      "Время выполнения функции fib: 0.000015\n",
      "\n",
      "Время выполнения функции fib: 0.000138\n",
      "\n",
      "Время выполнения функции fib: 0.000000\n",
      "\n",
      "Время выполнения функции fib: 0.000000\n",
      "\n",
      "Время выполнения функции fib: 0.000007\n",
      "\n",
      "Время выполнения функции fib: 0.000000\n",
      "\n",
      "Время выполнения функции fib: 0.000000\n",
      "\n",
      "Время выполнения функции fib: 0.000000\n",
      "\n",
      "Время выполнения функции fib: 0.000006\n",
      "\n",
      "Время выполнения функции fib: 0.000013\n",
      "\n",
      "Время выполнения функции fib: 0.000026\n",
      "\n",
      "Время выполнения функции fib: 0.000171\n",
      "\n"
     ]
    },
    {
     "data": {
      "text/plain": [
       "5"
      ]
     },
     "execution_count": 18,
     "metadata": {},
     "output_type": "execute_result"
    }
   ],
   "source": [
    "# измеряем время выполнения\n",
    "@benchmark\n",
    "def fib(n):\n",
    "    if n < 2:\n",
    "        return n\n",
    "    return fib(n-2) + fib(n-1)\n",
    "\n",
    "fib(5)"
   ]
  },
  {
   "cell_type": "code",
   "execution_count": 19,
   "metadata": {},
   "outputs": [
    {
     "data": {
      "text/plain": [
       "5"
      ]
     },
     "execution_count": 19,
     "metadata": {},
     "output_type": "execute_result"
    }
   ],
   "source": [
    "@memo\n",
    "def fib(n):\n",
    "    if n < 2:\n",
    "        return n\n",
    "    return fib(n-2) + fib(n-1)\n",
    "\n",
    "fib(5)"
   ]
  },
  {
   "cell_type": "code",
   "execution_count": 20,
   "metadata": {},
   "outputs": [
    {
     "name": "stdout",
     "output_type": "stream",
     "text": [
      "Время выполнения функции fmemo: 0.000001\n",
      "\n",
      "Время выполнения функции fmemo: 0.000000\n",
      "\n",
      "Время выполнения функции fmemo: 0.000000\n",
      "\n",
      "Время выполнения функции fmemo: 0.000011\n",
      "\n",
      "Время выполнения функции fmemo: 0.000083\n",
      "\n",
      "Время выполнения функции fmemo: 0.000000\n",
      "\n",
      "Время выполнения функции fmemo: 0.000000\n",
      "\n",
      "Время выполнения функции fmemo: 0.000007\n",
      "\n",
      "Время выполнения функции fmemo: 0.000098\n",
      "\n"
     ]
    },
    {
     "data": {
      "text/plain": [
       "5"
      ]
     },
     "execution_count": 20,
     "metadata": {},
     "output_type": "execute_result"
    }
   ],
   "source": [
    "# измеряем время выполнения\n",
    "@benchmark\n",
    "@memo\n",
    "def fib(n):\n",
    "    if n < 2:\n",
    "        return n\n",
    "    return fib(n-2) + fib(n-1)\n",
    "\n",
    "fib(5)"
   ]
  }
 ],
 "metadata": {
  "kernelspec": {
   "display_name": "env",
   "language": "python",
   "name": "python3"
  },
  "language_info": {
   "codemirror_mode": {
    "name": "ipython",
    "version": 3
   },
   "file_extension": ".py",
   "mimetype": "text/x-python",
   "name": "python",
   "nbconvert_exporter": "python",
   "pygments_lexer": "ipython3",
   "version": "3.12.3"
  }
 },
 "nbformat": 4,
 "nbformat_minor": 2
}
